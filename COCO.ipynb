{
 "cells": [
  {
   "cell_type": "code",
   "execution_count": 1,
   "metadata": {},
   "outputs": [],
   "source": [
    "import numpy as np\n",
    "import pandas as pd\n",
    "import json\n",
    "from pycocotools.coco import COCO\n",
    "import skimage.io as io\n",
    "import matplotlib.pyplot as plt\n",
    "import json\n",
    "import pylab\n",
    "pylab.rcParams['figure.figsize'] = (8.0, 10.0)\n"
   ]
  },
  {
   "cell_type": "code",
   "execution_count": 5,
   "metadata": {},
   "outputs": [],
   "source": [
    "dataDir = './Dataset'\n",
    "dataType = 'train2017'\n",
    "val_dataType = 'val2017'\n",
    "data = dict()"
   ]
  },
  {
   "cell_type": "code",
   "execution_count": null,
   "metadata": {},
   "outputs": [],
   "source": [
    "# annFile='instances_train2017.json'\n",
    "annFile = '{}/annotations/instances_{}.json'.format(dataDir, dataType)"
   ]
  },
  {
   "cell_type": "code",
   "execution_count": null,
   "metadata": {},
   "outputs": [],
   "source": [
    "coco = COCO(annFile)"
   ]
  },
  {
   "cell_type": "code",
   "execution_count": null,
   "metadata": {},
   "outputs": [],
   "source": [
    "catIds = coco.getCatIds(catNms=['all']);\n",
    "imgIds = coco.getImgIds(catIds=catIds );\n",
    "print(len(imgIds))"
   ]
  },
  {
   "cell_type": "code",
   "execution_count": null,
   "metadata": {},
   "outputs": [],
   "source": [
    "# annFile = 'captions_train2017.json'\n",
    "annFile = '{}/annotations/captions_{}.json'.format(dataDir, dataType)\n",
    "coco_caps = COCO(annFile)"
   ]
  },
  {
   "cell_type": "code",
   "execution_count": null,
   "metadata": {},
   "outputs": [],
   "source": [
    "count = 0\n",
    "\n",
    "for i in imgIds:\n",
    "    count+=1\n",
    "    imgId = coco.getImgIds(imgIds = [i])\n",
    "    img = coco.loadImgs(imgId[np.random.randint(0,len(imgId))])[0]\n",
    "    \n",
    "    annIds = coco_caps.getAnnIds(imgIds=img['id']);\n",
    "    anns = coco_caps.loadAnns(annIds)\n",
    "    capt = list()\n",
    "    for j in range(5):\n",
    "        capt.append(anns[j]['caption'])\n",
    "    data[i] = capt"
   ]
  },
  {
   "cell_type": "code",
   "execution_count": null,
   "metadata": {},
   "outputs": [],
   "source": [
    "with open('train_data.json', 'w') as fp:\n",
    "    json.dump(data, fp)"
   ]
  },
  {
   "cell_type": "code",
   "execution_count": 6,
   "metadata": {},
   "outputs": [],
   "source": [
    "annFile = '{}/annotations/instances_{}.json'.format(dataDir, val_dataType)"
   ]
  },
  {
   "cell_type": "code",
   "execution_count": 7,
   "metadata": {},
   "outputs": [
    {
     "name": "stdout",
     "output_type": "stream",
     "text": [
      "loading annotations into memory...\n",
      "Done (t=1.05s)\n",
      "creating index...\n",
      "index created!\n"
     ]
    }
   ],
   "source": [
    "coco = COCO(annFile)"
   ]
  },
  {
   "cell_type": "code",
   "execution_count": 8,
   "metadata": {},
   "outputs": [
    {
     "name": "stdout",
     "output_type": "stream",
     "text": [
      "5000\n"
     ]
    }
   ],
   "source": [
    "catIds = coco.getCatIds(catNms=['all']);\n",
    "imgIds = coco.getImgIds(catIds=catIds );\n",
    "print(len(imgIds))"
   ]
  },
  {
   "cell_type": "code",
   "execution_count": 9,
   "metadata": {},
   "outputs": [
    {
     "name": "stdout",
     "output_type": "stream",
     "text": [
      "loading annotations into memory...\n",
      "Done (t=0.22s)\n",
      "creating index...\n",
      "index created!\n"
     ]
    }
   ],
   "source": [
    "# annFile = 'captions_train2017.json'\n",
    "\n",
    "annFile = '{}/annotations/captions_{}.json'.format(dataDir, val_dataType)\n",
    "\n",
    "coco_caps = COCO(annFile)\n"
   ]
  },
  {
   "cell_type": "code",
   "execution_count": 10,
   "metadata": {},
   "outputs": [],
   "source": [
    "count = 0\n",
    "val_data = dict()\n",
    "for i in imgIds:\n",
    "\n",
    "    count+=1\n",
    "\n",
    "    imgId = coco.getImgIds(imgIds = [i])\n",
    "\n",
    "    img = coco.loadImgs(imgId[np.random.randint(0,len(imgId))])[0]\n",
    "\n",
    "    \n",
    "\n",
    "    annIds = coco_caps.getAnnIds(imgIds=img['id']);\n",
    "\n",
    "    anns = coco_caps.loadAnns(annIds)\n",
    "\n",
    "    capt = list()\n",
    "\n",
    "    for j in range(5):\n",
    "\n",
    "        capt.append(anns[j]['caption'])\n",
    "\n",
    "    val_data[i] = capt\n",
    "\n"
   ]
  },
  {
   "cell_type": "code",
   "execution_count": 11,
   "metadata": {},
   "outputs": [],
   "source": [
    "with open('val_data.json', 'w') as fp:\n",
    "    json.dump(val_data, fp)"
   ]
  },
  {
   "cell_type": "code",
   "execution_count": null,
   "metadata": {},
   "outputs": [],
   "source": []
  }
 ],
 "metadata": {
  "kernelspec": {
   "display_name": "Python 3",
   "language": "python",
   "name": "python3"
  },
  "language_info": {
   "codemirror_mode": {
    "name": "ipython",
    "version": 3
   },
   "file_extension": ".py",
   "mimetype": "text/x-python",
   "name": "python",
   "nbconvert_exporter": "python",
   "pygments_lexer": "ipython3",
   "version": "3.5.2"
  }
 },
 "nbformat": 4,
 "nbformat_minor": 2
}
