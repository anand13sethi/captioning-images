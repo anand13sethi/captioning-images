{
 "cells": [
  {
   "cell_type": "code",
   "execution_count": 1,
   "metadata": {},
   "outputs": [],
   "source": [
    "import os\n",
    "import numpy as np\n",
    "import pandas as pd\n",
    "import tensorflow as tf\n",
    "from subprocess import check_output\n",
    "from pprint import pprint\n",
    "import json"
   ]
  },
  {
   "cell_type": "code",
   "execution_count": 2,
   "metadata": {},
   "outputs": [
    {
     "name": "stdout",
     "output_type": "stream",
     "text": [
      "flickr30k_images\n",
      "results.csv\n",
      "\n"
     ]
    }
   ],
   "source": [
    "print(check_output([\"ls\", \"../input/flickr-image-dataset/flickr30k_images/flickr30k_images\"]).decode(\"utf8\"))"
   ]
  },
  {
   "cell_type": "code",
   "execution_count": 3,
   "metadata": {},
   "outputs": [],
   "source": [
    "df = pd.read_csv(\"../input/flickr-image-dataset/flickr30k_images/flickr30k_images/results.csv\", delimiter='|', error_bad_lines=False)\n",
    "\n",
    "df['image_name'] = df['image_name'].str.strip()\n",
    "df = df.drop(' comment_number', 1)\n",
    "\n",
    "# print(df.head(16)[' comment'])\n",
    "# print(df.head(16)['image_name'])\n"
   ]
  },
  {
   "cell_type": "code",
   "execution_count": 4,
   "metadata": {},
   "outputs": [],
   "source": [
    "training = dict()\n",
    "validation = dict()\n",
    "prev = None\n",
    "count = 0\n",
    "\n",
    "for index, row in df.iterrows():\n",
    "    if count <= df.shape[0]*0.8:\n",
    "        if row['image_name'] not in training.keys():\n",
    "            training[row['image_name']] = []\n",
    "            if prev is not None:\n",
    "                while len(training[prev]) < 5:\n",
    "                    training[prev].append(training[prev][-1])\n",
    "            prev = row['image_name']\n",
    "        training[row['image_name']].append(row[' comment'])\n",
    "        count += 1\n",
    "        if count > df.shape[0]*0.8:\n",
    "            prev = None   \n",
    "    else:\n",
    "        if row['image_name'] not in validation.keys():\n",
    "            validation[row['image_name']] = []\n",
    "            if prev is not None:\n",
    "                while len(validation[prev]) < 5:\n",
    "                    validation[prev].append(validation[prev][-1])\n",
    "            prev = row['image_name']\n",
    "        validation[row['image_name']].append(row[' comment'])\n",
    "        count += 1"
   ]
  },
  {
   "cell_type": "code",
   "execution_count": 6,
   "metadata": {},
   "outputs": [],
   "source": [
    "with open('training.json', 'w') as outfile:\n",
    "    json.dump(training, outfile)\n",
    "\n",
    "with open('validation.json', 'w') as outfile:\n",
    "    json.dump(validation, outfile)"
   ]
  },
  {
   "cell_type": "code",
   "execution_count": null,
   "metadata": {},
   "outputs": [],
   "source": []
  }
 ],
 "metadata": {
  "kernelspec": {
   "display_name": "Python 3",
   "language": "python",
   "name": "python3"
  },
  "language_info": {
   "codemirror_mode": {
    "name": "ipython",
    "version": 3
   },
   "file_extension": ".py",
   "mimetype": "text/x-python",
   "name": "python",
   "nbconvert_exporter": "python",
   "pygments_lexer": "ipython3",
   "version": "3.7.1"
  }
 },
 "nbformat": 4,
 "nbformat_minor": 1
}
